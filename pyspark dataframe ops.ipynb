{
 "cells": [
  {
   "cell_type": "code",
   "execution_count": 0,
   "metadata": {
    "application/vnd.databricks.v1+cell": {
     "cellMetadata": {},
     "inputWidgets": {},
     "nuid": "2e26ca11-7d48-48a5-86e3-fbe05f846217",
     "showTitle": false,
     "title": ""
    }
   },
   "outputs": [],
   "source": [
    "from pyspark.sql import SparkSession"
   ]
  },
  {
   "cell_type": "code",
   "execution_count": 0,
   "metadata": {
    "application/vnd.databricks.v1+cell": {
     "cellMetadata": {},
     "inputWidgets": {},
     "nuid": "ebd7dc84-1518-4717-aac0-1357b8709bf3",
     "showTitle": false,
     "title": ""
    }
   },
   "outputs": [],
   "source": [
    "spark=SparkSession.builder.appName('operations').getOrCreate()"
   ]
  },
  {
   "cell_type": "code",
   "execution_count": 0,
   "metadata": {
    "application/vnd.databricks.v1+cell": {
     "cellMetadata": {
      "byteLimit": 2048000,
      "rowLimit": 10000
     },
     "inputWidgets": {},
     "nuid": "bcb4e9e9-7731-4a16-bae8-8cf22d86cbbd",
     "showTitle": false,
     "title": ""
    }
   },
   "outputs": [],
   "source": [
    "df=spark.read.table('aapl')"
   ]
  },
  {
   "cell_type": "code",
   "execution_count": 0,
   "metadata": {
    "application/vnd.databricks.v1+cell": {
     "cellMetadata": {
      "byteLimit": 2048000,
      "rowLimit": 10000
     },
     "inputWidgets": {},
     "nuid": "4dd9a6fa-98b6-4659-aaa6-ab2553085bcc",
     "showTitle": false,
     "title": ""
    }
   },
   "outputs": [
    {
     "output_type": "stream",
     "name": "stdout",
     "output_type": "stream",
     "text": [
      "root\n |-- Date: date (nullable = true)\n |-- Open: double (nullable = true)\n |-- High: double (nullable = true)\n |-- Low: double (nullable = true)\n |-- Close: double (nullable = true)\n |-- Adj Close: double (nullable = true)\n |-- Volume: long (nullable = true)\n\n"
     ]
    }
   ],
   "source": [
    "df.printSchema()"
   ]
  },
  {
   "cell_type": "code",
   "execution_count": 0,
   "metadata": {
    "application/vnd.databricks.v1+cell": {
     "cellMetadata": {
      "byteLimit": 2048000,
      "rowLimit": 10000
     },
     "inputWidgets": {},
     "nuid": "9b66bb9a-33c4-4459-be70-6eede01920e0",
     "showTitle": false,
     "title": ""
    }
   },
   "outputs": [
    {
     "output_type": "stream",
     "name": "stdout",
     "output_type": "stream",
     "text": [
      "Out[6]: Row(Date=datetime.date(1980, 12, 15), Open=0.12221, High=0.12221, Low=0.121652, Close=0.121652, Adj Close=0.095089, Volume=175884800)"
     ]
    }
   ],
   "source": [
    "df.head(3)[1]"
   ]
  },
  {
   "cell_type": "code",
   "execution_count": 0,
   "metadata": {
    "application/vnd.databricks.v1+cell": {
     "cellMetadata": {
      "byteLimit": 2048000,
      "rowLimit": 10000
     },
     "inputWidgets": {},
     "nuid": "9383efe3-65ed-4c10-86d0-573d519bb60f",
     "showTitle": false,
     "title": ""
    }
   },
   "outputs": [
    {
     "output_type": "stream",
     "name": "stdout",
     "output_type": "stream",
     "text": [
      "+--------+--------+\n|    Open|   Close|\n+--------+--------+\n|0.128348|0.128348|\n| 0.12221|0.121652|\n|0.113281|0.112723|\n|0.115513|0.115513|\n|0.118862|0.118862|\n|0.126116|0.126116|\n|0.132254|0.132254|\n|0.137835|0.137835|\n|0.145089|0.145089|\n|0.158482|0.158482|\n|0.160714|0.160714|\n|0.157366|0.156808|\n|0.152902|0.152344|\n|0.154018|0.154018|\n|0.151228| 0.15067|\n|0.144531|0.143973|\n|0.138393|0.137835|\n|0.135603|0.135045|\n|0.142299|0.142299|\n|0.142299|0.141183|\n+--------+--------+\nonly showing top 20 rows\n\n"
     ]
    }
   ],
   "source": [
    "df.filter(\"Close<500\").select (['Open','Close']).show()"
   ]
  },
  {
   "cell_type": "code",
   "execution_count": 0,
   "metadata": {
    "application/vnd.databricks.v1+cell": {
     "cellMetadata": {
      "byteLimit": 2048000,
      "rowLimit": 10000
     },
     "inputWidgets": {},
     "nuid": "3ae55a27-7e16-4a09-b0dd-141804e662f4",
     "showTitle": false,
     "title": ""
    }
   },
   "outputs": [
    {
     "output_type": "stream",
     "name": "stdout",
     "output_type": "stream",
     "text": [
      "+--------+--------+\n|    Open|   Close|\n+--------+--------+\n|0.128348|0.128348|\n| 0.12221|0.121652|\n|0.113281|0.112723|\n|0.115513|0.115513|\n|0.118862|0.118862|\n|0.126116|0.126116|\n|0.132254|0.132254|\n|0.137835|0.137835|\n|0.145089|0.145089|\n|0.158482|0.158482|\n|0.160714|0.160714|\n|0.157366|0.156808|\n|0.152902|0.152344|\n|0.154018|0.154018|\n|0.151228| 0.15067|\n|0.144531|0.143973|\n|0.138393|0.137835|\n|0.135603|0.135045|\n|0.142299|0.142299|\n|0.142299|0.141183|\n+--------+--------+\nonly showing top 20 rows\n\n"
     ]
    }
   ],
   "source": [
    "df.filter(df['Close']<500).select (['Open','Close']).show()"
   ]
  },
  {
   "cell_type": "code",
   "execution_count": 0,
   "metadata": {
    "application/vnd.databricks.v1+cell": {
     "cellMetadata": {
      "byteLimit": 2048000,
      "rowLimit": 10000
     },
     "inputWidgets": {},
     "nuid": "76e4ac72-38dc-4615-8182-d41535b9bb7b",
     "showTitle": false,
     "title": ""
    }
   },
   "outputs": [
    {
     "output_type": "stream",
     "name": "stdout",
     "output_type": "stream",
     "text": [
      "+----------+--------+--------+--------+--------+---------+---------+\n|      Date|    Open|    High|     Low|   Close|Adj Close|   Volume|\n+----------+--------+--------+--------+--------+---------+---------+\n|1980-12-12|0.128348|0.128906|0.128348|0.128348| 0.100323|469033600|\n|1980-12-15| 0.12221| 0.12221|0.121652|0.121652| 0.095089|175884800|\n|1980-12-16|0.113281|0.113281|0.112723|0.112723|  0.08811|105728000|\n|1980-12-17|0.115513|0.116071|0.115513|0.115513| 0.090291| 86441600|\n|1980-12-18|0.118862| 0.11942|0.118862|0.118862| 0.092908| 73449600|\n|1980-12-19|0.126116|0.126674|0.126116|0.126116| 0.098578| 48630400|\n|1980-12-22|0.132254|0.132813|0.132254|0.132254| 0.103376| 37363200|\n|1980-12-23|0.137835|0.138393|0.137835|0.137835| 0.107739| 46950400|\n|1980-12-24|0.145089|0.145647|0.145089|0.145089| 0.113409| 48003200|\n|1980-12-26|0.158482| 0.15904|0.158482|0.158482| 0.123877| 55574400|\n|1980-12-29|0.160714|0.161272|0.160714|0.160714| 0.125622| 93161600|\n|1980-12-30|0.157366|0.157366|0.156808|0.156808| 0.122569| 68880000|\n|1980-12-31|0.152902|0.152902|0.152344|0.152344|  0.11908| 35750400|\n|1981-01-02|0.154018|0.155134|0.154018|0.154018| 0.120388| 21660800|\n|1981-01-05|0.151228|0.151228| 0.15067| 0.15067| 0.117771| 35728000|\n|1981-01-06|0.144531|0.144531|0.143973|0.143973| 0.112536| 45158400|\n|1981-01-07|0.138393|0.138393|0.137835|0.137835| 0.107739| 55686400|\n|1981-01-08|0.135603|0.135603|0.135045|0.135045| 0.105558| 39827200|\n|1981-01-09|0.142299|0.142857|0.142299|0.142299| 0.111228| 21504000|\n|1981-01-12|0.142299|0.142299|0.141183|0.141183| 0.110356| 23699200|\n+----------+--------+--------+--------+--------+---------+---------+\nonly showing top 20 rows\n\n"
     ]
    }
   ],
   "source": [
    "df.filter((df['Close']<200) & ~(df['Open']>200)).show()"
   ]
  },
  {
   "cell_type": "code",
   "execution_count": 0,
   "metadata": {
    "application/vnd.databricks.v1+cell": {
     "cellMetadata": {
      "byteLimit": 2048000,
      "rowLimit": 10000
     },
     "inputWidgets": {},
     "nuid": "3eb4441e-acba-48a2-b350-5dfa36470954",
     "showTitle": false,
     "title": ""
    }
   },
   "outputs": [
    {
     "output_type": "stream",
     "name": "stdout",
     "output_type": "stream",
     "text": [
      "+----------+--------+--------+--------+--------+---------+---------+\n|      Date|    Open|    High|     Low|   Close|Adj Close|   Volume|\n+----------+--------+--------+--------+--------+---------+---------+\n|1980-12-12|0.128348|0.128906|0.128348|0.128348| 0.100323|469033600|\n|1981-02-06|0.128348|0.128906|0.128348|0.128348| 0.100323| 13865600|\n|1981-04-27|0.128906|0.128906|0.128348|0.128348| 0.100323| 38528000|\n|1982-11-08|0.134487|0.135603|0.128348|0.128906| 0.100759|119190400|\n|1982-11-09|0.128906|0.134487|0.128348|0.133371| 0.104249|179782400|\n|1982-11-24|0.128906|0.136161|0.128348|0.131696|  0.10294| 73740800|\n|1982-11-30|0.128906|0.142857|0.128348|0.142299| 0.111228|159196800|\n|1983-01-11|0.128348|0.131696|0.128348|0.130022| 0.101632|  1388800|\n|1984-05-17|0.136161|0.136161|0.128348|0.130022| 0.101632|281948800|\n|1984-05-18|0.130022|0.133371|0.128348|0.132813| 0.103813|193468800|\n|1984-05-31|0.129464|0.132813|0.128348|0.131138| 0.102504|167014400|\n|1984-06-14|0.132813|0.132813|0.128348|0.128906| 0.100759|100956800|\n|1984-06-20|0.131138|0.135045|0.128348|0.135045| 0.105558|119526400|\n|1985-01-09|0.128348|0.130022|0.128348|0.128348| 0.100323|166723200|\n|1986-04-18|0.129464|0.133371|0.128348|0.132813| 0.103813|247676800|\n+----------+--------+--------+--------+--------+---------+---------+\n\n"
     ]
    }
   ],
   "source": [
    "df.filter(df['Low']==0.128348).show()"
   ]
  },
  {
   "cell_type": "code",
   "execution_count": 0,
   "metadata": {
    "application/vnd.databricks.v1+cell": {
     "cellMetadata": {
      "byteLimit": 2048000,
      "rowLimit": 10000
     },
     "inputWidgets": {},
     "nuid": "6bffe26a-b3e6-4bc3-b52f-841721e82ae1",
     "showTitle": false,
     "title": ""
    }
   },
   "outputs": [],
   "source": [
    "result=df.filter(df['Low']==0.128348).collect()"
   ]
  },
  {
   "cell_type": "code",
   "execution_count": 0,
   "metadata": {
    "application/vnd.databricks.v1+cell": {
     "cellMetadata": {
      "byteLimit": 2048000,
      "rowLimit": 10000
     },
     "inputWidgets": {},
     "nuid": "1460d0a3-8db0-4849-ac4a-7dd8f5dd07d0",
     "showTitle": false,
     "title": ""
    }
   },
   "outputs": [
    {
     "output_type": "stream",
     "name": "stdout",
     "output_type": "stream",
     "text": [
      "Out[18]: Row(Date=datetime.date(1980, 12, 12), Open=0.128348, High=0.128906, Low=0.128348, Close=0.128348, Adj Close=0.100323, Volume=469033600)"
     ]
    }
   ],
   "source": [
    "result[0]"
   ]
  },
  {
   "cell_type": "code",
   "execution_count": 0,
   "metadata": {
    "application/vnd.databricks.v1+cell": {
     "cellMetadata": {},
     "inputWidgets": {},
     "nuid": "57375be5-748e-4f35-bae3-f4867b5eb8c8",
     "showTitle": false,
     "title": ""
    }
   },
   "outputs": [],
   "source": []
  }
 ],
 "metadata": {
  "application/vnd.databricks.v1+notebook": {
   "dashboards": [],
   "language": "python",
   "notebookMetadata": {
    "pythonIndentUnit": 4
   },
   "notebookName": "pyspark dataframe ops",
   "notebookOrigID": 701265691459779,
   "widgets": {}
  }
 },
 "nbformat": 4,
 "nbformat_minor": 0
}
