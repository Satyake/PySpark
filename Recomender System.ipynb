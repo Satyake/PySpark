{
 "cells": [
  {
   "cell_type": "code",
   "execution_count": 0,
   "metadata": {
    "application/vnd.databricks.v1+cell": {
     "cellMetadata": {
      "byteLimit": 2048000,
      "rowLimit": 10000
     },
     "inputWidgets": {},
     "nuid": "4dcff01d-67bb-4349-bbe2-f594dcf09b6c",
     "showTitle": false,
     "title": ""
    }
   },
   "outputs": [],
   "source": [
    "from pyspark.sql import SparkSession\n",
    "spark=SparkSession.builder.appName('rec').getOrCreate()"
   ]
  },
  {
   "cell_type": "code",
   "execution_count": 0,
   "metadata": {
    "application/vnd.databricks.v1+cell": {
     "cellMetadata": {
      "byteLimit": 2048000,
      "rowLimit": 10000
     },
     "inputWidgets": {},
     "nuid": "9721b1ff-b326-4c30-81e5-e7c0c4ad60d6",
     "showTitle": false,
     "title": ""
    }
   },
   "outputs": [],
   "source": [
    "from pyspark.ml.recommendation import ALS"
   ]
  },
  {
   "cell_type": "code",
   "execution_count": 0,
   "metadata": {
    "application/vnd.databricks.v1+cell": {
     "cellMetadata": {
      "byteLimit": 2048000,
      "rowLimit": 10000
     },
     "inputWidgets": {},
     "nuid": "c4ca3a53-d3a8-4b8b-92fb-6dd7027aa6ff",
     "showTitle": false,
     "title": ""
    }
   },
   "outputs": [],
   "source": [
    "from pyspark.ml.evaluation import RegressionEvaluator"
   ]
  },
  {
   "cell_type": "code",
   "execution_count": 0,
   "metadata": {
    "application/vnd.databricks.v1+cell": {
     "cellMetadata": {
      "byteLimit": 2048000,
      "rowLimit": 10000
     },
     "inputWidgets": {},
     "nuid": "af8530be-a5a1-4bfe-9730-7adae95cbfba",
     "showTitle": false,
     "title": ""
    }
   },
   "outputs": [],
   "source": [
    "data=spark.read.table('movielens_ratings')"
   ]
  },
  {
   "cell_type": "code",
   "execution_count": 0,
   "metadata": {
    "application/vnd.databricks.v1+cell": {
     "cellMetadata": {
      "byteLimit": 2048000,
      "rowLimit": 10000
     },
     "inputWidgets": {},
     "nuid": "231feb39-0575-4629-b05a-73c96fac748d",
     "showTitle": false,
     "title": ""
    }
   },
   "outputs": [
    {
     "output_type": "stream",
     "name": "stdout",
     "output_type": "stream",
     "text": [
      "+-------+------+------+\n|movieId|rating|userId|\n+-------+------+------+\n|      2|   3.0|     0|\n|      3|   1.0|     0|\n|      5|   2.0|     0|\n|      9|   4.0|     0|\n|     11|   1.0|     0|\n|     12|   2.0|     0|\n|     15|   1.0|     0|\n|     17|   1.0|     0|\n|     19|   1.0|     0|\n|     21|   1.0|     0|\n|     23|   1.0|     0|\n|     26|   3.0|     0|\n|     27|   1.0|     0|\n|     28|   1.0|     0|\n|     29|   1.0|     0|\n|     30|   1.0|     0|\n|     31|   1.0|     0|\n|     34|   1.0|     0|\n|     37|   1.0|     0|\n|     41|   2.0|     0|\n+-------+------+------+\nonly showing top 20 rows\n\n"
     ]
    }
   ],
   "source": [
    "data.show()"
   ]
  },
  {
   "cell_type": "code",
   "execution_count": 0,
   "metadata": {
    "application/vnd.databricks.v1+cell": {
     "cellMetadata": {
      "byteLimit": 2048000,
      "rowLimit": 10000
     },
     "inputWidgets": {},
     "nuid": "97b8bc33-d24c-44ee-aa03-e23fab7748b7",
     "showTitle": false,
     "title": ""
    }
   },
   "outputs": [
    {
     "output_type": "stream",
     "name": "stdout",
     "output_type": "stream",
     "text": [
      "+-------+------------------+------------------+------------------+\n|summary|           movieId|            rating|            userId|\n+-------+------------------+------------------+------------------+\n|  count|              1501|              1501|              1501|\n|   mean| 49.40572951365756|1.7741505662891406|14.383744170552964|\n| stddev|28.937034065088994| 1.187276166124803| 8.591040424293272|\n|    min|                 0|               1.0|                 0|\n|    max|                99|               5.0|                29|\n+-------+------------------+------------------+------------------+\n\n"
     ]
    }
   ],
   "source": [
    "data.describe().show()"
   ]
  },
  {
   "cell_type": "code",
   "execution_count": 0,
   "metadata": {
    "application/vnd.databricks.v1+cell": {
     "cellMetadata": {
      "byteLimit": 2048000,
      "rowLimit": 10000
     },
     "inputWidgets": {},
     "nuid": "add1a245-10a6-4960-b768-3cebf694adfa",
     "showTitle": false,
     "title": ""
    }
   },
   "outputs": [],
   "source": [
    "training,test=data.randomSplit([0.8,0.2])"
   ]
  },
  {
   "cell_type": "code",
   "execution_count": 0,
   "metadata": {
    "application/vnd.databricks.v1+cell": {
     "cellMetadata": {
      "byteLimit": 2048000,
      "rowLimit": 10000
     },
     "inputWidgets": {},
     "nuid": "3559b8b7-f19b-4c7b-8fe4-a803a24c4456",
     "showTitle": false,
     "title": ""
    }
   },
   "outputs": [],
   "source": [
    "als_model=ALS(maxIter=5,regParam=0.01,userCol='userId',itemCol='movieId',ratingCol='rating')"
   ]
  },
  {
   "cell_type": "code",
   "execution_count": 0,
   "metadata": {
    "application/vnd.databricks.v1+cell": {
     "cellMetadata": {
      "byteLimit": 2048000,
      "rowLimit": 10000
     },
     "inputWidgets": {},
     "nuid": "7a0d8787-47dd-45c5-92ff-9e05142c5d11",
     "showTitle": false,
     "title": ""
    }
   },
   "outputs": [],
   "source": [
    "model=als_model.fit(training)"
   ]
  },
  {
   "cell_type": "code",
   "execution_count": 0,
   "metadata": {
    "application/vnd.databricks.v1+cell": {
     "cellMetadata": {
      "byteLimit": 2048000,
      "rowLimit": 10000
     },
     "inputWidgets": {},
     "nuid": "9f1fc8ab-56ba-40eb-a87e-589a3128df5f",
     "showTitle": false,
     "title": ""
    }
   },
   "outputs": [],
   "source": [
    "predictions=model.transform(test)"
   ]
  },
  {
   "cell_type": "code",
   "execution_count": 0,
   "metadata": {
    "application/vnd.databricks.v1+cell": {
     "cellMetadata": {
      "byteLimit": 2048000,
      "rowLimit": 10000
     },
     "inputWidgets": {},
     "nuid": "8592f627-e713-437c-895a-8be67cb7ff36",
     "showTitle": false,
     "title": ""
    }
   },
   "outputs": [
    {
     "output_type": "stream",
     "name": "stdout",
     "output_type": "stream",
     "text": [
      "+-------+------+------+-----------+\n|movieId|rating|userId| prediction|\n+-------+------+------+-----------+\n|      0|   3.0|    28|  0.6974516|\n|      1|   1.0|    28| 0.15031911|\n|      2|   1.0|    12|  0.7130363|\n|      3|   1.0|    13| 0.95484626|\n|      2|   3.0|     6|  3.7912478|\n|      5|   1.0|     6|-0.09739289|\n|      0|   1.0|     3|  0.8705987|\n|      2|   1.0|     3| -1.3808072|\n|      1|   1.0|    20|   1.062402|\n|      4|   2.0|    20|-0.59656024|\n|      1|   1.0|     5|  0.9005945|\n|      5|   1.0|     5|  1.0987962|\n|      4|   1.0|    19| 0.69999087|\n|      1|   4.0|    15|  0.6546289|\n|      2|   4.0|     8|   4.312378|\n|      5|   1.0|     8|  1.7599182|\n|      4|   1.0|    23|  1.9588348|\n|      1|   1.0|     7| 0.35469788|\n|      3|   1.0|     7|   1.414608|\n|      4|   3.0|    10|-0.06879255|\n+-------+------+------+-----------+\nonly showing top 20 rows\n\n"
     ]
    }
   ],
   "source": [
    "predictions.show()"
   ]
  },
  {
   "cell_type": "code",
   "execution_count": 0,
   "metadata": {
    "application/vnd.databricks.v1+cell": {
     "cellMetadata": {
      "byteLimit": 2048000,
      "rowLimit": 10000
     },
     "inputWidgets": {},
     "nuid": "27485b48-2f46-43d3-8788-ba7a5b347182",
     "showTitle": false,
     "title": ""
    }
   },
   "outputs": [],
   "source": [
    "evaluator=RegressionEvaluator(metricName='rmse',labelCol='rating',predictionCol='prediction')"
   ]
  },
  {
   "cell_type": "code",
   "execution_count": 0,
   "metadata": {
    "application/vnd.databricks.v1+cell": {
     "cellMetadata": {
      "byteLimit": 2048000,
      "rowLimit": 10000
     },
     "inputWidgets": {},
     "nuid": "62fb3d09-3b43-434e-995c-fb832d486d03",
     "showTitle": false,
     "title": ""
    }
   },
   "outputs": [],
   "source": [
    "rmse=evaluator.evaluate(predictions)"
   ]
  },
  {
   "cell_type": "code",
   "execution_count": 0,
   "metadata": {
    "application/vnd.databricks.v1+cell": {
     "cellMetadata": {
      "byteLimit": 2048000,
      "rowLimit": 10000
     },
     "inputWidgets": {},
     "nuid": "12415cfb-5144-4fe8-9c69-b1bb95d1ca0b",
     "showTitle": false,
     "title": ""
    }
   },
   "outputs": [
    {
     "output_type": "execute_result",
     "data": {
      "text/plain": [
       "1.794219920727188"
      ]
     },
     "execution_count": 19,
     "metadata": {
      "application/vnd.databricks.v1+output": {
       "addedWidgets": {},
       "arguments": {},
       "data": {
        "text/plain": "1.794219920727188"
       },
       "datasetInfos": [],
       "executionCount": 19,
       "metadata": {},
       "removedWidgets": [],
       "type": "mimeBundle"
      }
     },
     "output_type": "execute_result"
    }
   ],
   "source": [
    "rmse"
   ]
  },
  {
   "cell_type": "code",
   "execution_count": 0,
   "metadata": {
    "application/vnd.databricks.v1+cell": {
     "cellMetadata": {
      "byteLimit": 2048000,
      "rowLimit": 10000
     },
     "inputWidgets": {},
     "nuid": "802f9ae8-8553-4189-8bfa-087b554d76fc",
     "showTitle": false,
     "title": ""
    }
   },
   "outputs": [],
   "source": [
    "single_user=test.filter(test['userId']==11).select(['movieId','userId'])"
   ]
  },
  {
   "cell_type": "code",
   "execution_count": 0,
   "metadata": {
    "application/vnd.databricks.v1+cell": {
     "cellMetadata": {
      "byteLimit": 2048000,
      "rowLimit": 10000
     },
     "inputWidgets": {},
     "nuid": "b5c83da0-051b-47b9-945d-52e9c63e4048",
     "showTitle": false,
     "title": ""
    }
   },
   "outputs": [
    {
     "output_type": "stream",
     "name": "stdout",
     "output_type": "stream",
     "text": [
      "+-------+------+\n|movieId|userId|\n+-------+------+\n|      0|    11|\n|      9|    11|\n|     20|    11|\n|     25|    11|\n|     32|    11|\n|     43|    11|\n|     48|    11|\n|     71|    11|\n|     76|    11|\n|     78|    11|\n|     80|    11|\n|     81|    11|\n|     88|    11|\n+-------+------+\n\n"
     ]
    }
   ],
   "source": [
    "single_user.show()"
   ]
  },
  {
   "cell_type": "code",
   "execution_count": 0,
   "metadata": {
    "application/vnd.databricks.v1+cell": {
     "cellMetadata": {
      "byteLimit": 2048000,
      "rowLimit": 10000
     },
     "inputWidgets": {},
     "nuid": "26fbf141-4be8-4c2f-9566-21a3b59bec18",
     "showTitle": false,
     "title": ""
    }
   },
   "outputs": [],
   "source": [
    "recommendations=model.transform(single_user)"
   ]
  },
  {
   "cell_type": "code",
   "execution_count": 0,
   "metadata": {
    "application/vnd.databricks.v1+cell": {
     "cellMetadata": {
      "byteLimit": 2048000,
      "rowLimit": 10000
     },
     "inputWidgets": {},
     "nuid": "bb2204bb-b148-42a8-a325-a6a0e1043df9",
     "showTitle": false,
     "title": ""
    }
   },
   "outputs": [
    {
     "output_type": "stream",
     "name": "stdout",
     "output_type": "stream",
     "text": [
      "+-------+------+-----------+\n|movieId|userId| prediction|\n+-------+------+-----------+\n|     25|    11|  4.0888367|\n|     76|    11|  3.9796467|\n|      9|    11|  3.9411612|\n|     71|    11|  3.2214415|\n|     80|    11|  1.5048838|\n|     20|    11|  1.3599882|\n|     48|    11|  1.2722015|\n|     78|    11| 0.86395836|\n|     81|    11|  0.7588352|\n|     43|    11| 0.47395116|\n|     88|    11|-0.45729652|\n|      0|    11| -0.9451701|\n|     32|    11|  -1.578334|\n+-------+------+-----------+\n\n"
     ]
    }
   ],
   "source": [
    "recommendations.orderBy('prediction',ascending=False).show()"
   ]
  },
  {
   "cell_type": "code",
   "execution_count": 0,
   "metadata": {
    "application/vnd.databricks.v1+cell": {
     "cellMetadata": {},
     "inputWidgets": {},
     "nuid": "ce74669d-99ca-4def-aa7a-d28422b3ce67",
     "showTitle": false,
     "title": ""
    }
   },
   "outputs": [],
   "source": []
  }
 ],
 "metadata": {
  "application/vnd.databricks.v1+notebook": {
   "dashboards": [],
   "language": "python",
   "notebookMetadata": {
    "pythonIndentUnit": 4
   },
   "notebookName": "Recomender System",
   "notebookOrigID": 1163469868763476,
   "widgets": {}
  }
 },
 "nbformat": 4,
 "nbformat_minor": 0
}
