{
 "cells": [
  {
   "cell_type": "code",
   "execution_count": 0,
   "metadata": {
    "application/vnd.databricks.v1+cell": {
     "cellMetadata": {
      "byteLimit": 2048000,
      "rowLimit": 10000
     },
     "inputWidgets": {},
     "nuid": "cb332651-a573-4816-b779-537c7272b0ce",
     "showTitle": false,
     "title": ""
    }
   },
   "outputs": [
    {
     "output_type": "stream",
     "name": "stdout",
     "output_type": "stream",
     "text": [
      "+---+---+----+---+-------+\n|  A|  B|   C|  D|Spoiled|\n+---+---+----+---+-------+\n|  4|  2|12.0|  3|    1.0|\n|  5|  6|12.0|  7|    1.0|\n|  6|  2|13.0|  6|    1.0|\n|  4|  2|12.0|  1|    1.0|\n|  4|  2|12.0|  3|    1.0|\n| 10|  3|13.0|  9|    1.0|\n|  8|  5|14.0|  5|    1.0|\n|  5|  8|12.0|  8|    1.0|\n|  6|  5|12.0|  9|    1.0|\n|  3|  3|12.0|  1|    1.0|\n|  9|  8|11.0|  3|    1.0|\n|  1| 10|12.0|  3|    1.0|\n|  1|  5|13.0| 10|    1.0|\n|  2| 10|12.0|  6|    1.0|\n|  1| 10|11.0|  4|    1.0|\n|  5|  3|12.0|  2|    1.0|\n|  4|  9|11.0|  8|    1.0|\n|  5|  1|11.0|  1|    1.0|\n|  4|  9|12.0| 10|    1.0|\n|  5|  8|10.0|  9|    1.0|\n+---+---+----+---+-------+\nonly showing top 20 rows\n\n"
     ]
    }
   ],
   "source": [
    "df=spark.sql(\"Select * from dog_food\")\n",
    "df.show()"
   ]
  },
  {
   "cell_type": "code",
   "execution_count": 0,
   "metadata": {
    "application/vnd.databricks.v1+cell": {
     "cellMetadata": {
      "byteLimit": 2048000,
      "rowLimit": 10000
     },
     "inputWidgets": {},
     "nuid": "51d8883d-717a-4d19-bc98-463bfba066da",
     "showTitle": false,
     "title": ""
    }
   },
   "outputs": [],
   "source": [
    "from pyspark.ml.feature import VectorAssembler"
   ]
  },
  {
   "cell_type": "code",
   "execution_count": 0,
   "metadata": {
    "application/vnd.databricks.v1+cell": {
     "cellMetadata": {
      "byteLimit": 2048000,
      "rowLimit": 10000
     },
     "inputWidgets": {},
     "nuid": "46e34475-8341-4e85-8d09-5494dc8c7229",
     "showTitle": false,
     "title": ""
    }
   },
   "outputs": [],
   "source": [
    "from pyspark.ml.classification import RandomForestClassifier"
   ]
  },
  {
   "cell_type": "code",
   "execution_count": 0,
   "metadata": {
    "application/vnd.databricks.v1+cell": {
     "cellMetadata": {
      "byteLimit": 2048000,
      "rowLimit": 10000
     },
     "inputWidgets": {},
     "nuid": "e1081a6c-a9c8-4e0e-a01b-6bff19264d76",
     "showTitle": false,
     "title": ""
    }
   },
   "outputs": [],
   "source": [
    "vec_assemb=VectorAssembler(inputCols=['A','B','C','D'],outputCol='features')"
   ]
  },
  {
   "cell_type": "code",
   "execution_count": 0,
   "metadata": {
    "application/vnd.databricks.v1+cell": {
     "cellMetadata": {
      "byteLimit": 2048000,
      "rowLimit": 10000
     },
     "inputWidgets": {},
     "nuid": "e1294245-2534-43af-a905-378e8031a8ba",
     "showTitle": false,
     "title": ""
    }
   },
   "outputs": [],
   "source": [
    "df=vec_assemb.transform(df)"
   ]
  },
  {
   "cell_type": "code",
   "execution_count": 0,
   "metadata": {
    "application/vnd.databricks.v1+cell": {
     "cellMetadata": {
      "byteLimit": 2048000,
      "rowLimit": 10000
     },
     "inputWidgets": {},
     "nuid": "f03695e1-b201-430c-b745-c0d768e6d6e0",
     "showTitle": false,
     "title": ""
    }
   },
   "outputs": [
    {
     "output_type": "stream",
     "name": "stdout",
     "output_type": "stream",
     "text": [
      "+---+---+----+---+-------+-------------------+\n|  A|  B|   C|  D|Spoiled|           features|\n+---+---+----+---+-------+-------------------+\n|  4|  2|12.0|  3|    1.0| [4.0,2.0,12.0,3.0]|\n|  5|  6|12.0|  7|    1.0| [5.0,6.0,12.0,7.0]|\n|  6|  2|13.0|  6|    1.0| [6.0,2.0,13.0,6.0]|\n|  4|  2|12.0|  1|    1.0| [4.0,2.0,12.0,1.0]|\n|  4|  2|12.0|  3|    1.0| [4.0,2.0,12.0,3.0]|\n| 10|  3|13.0|  9|    1.0|[10.0,3.0,13.0,9.0]|\n|  8|  5|14.0|  5|    1.0| [8.0,5.0,14.0,5.0]|\n|  5|  8|12.0|  8|    1.0| [5.0,8.0,12.0,8.0]|\n|  6|  5|12.0|  9|    1.0| [6.0,5.0,12.0,9.0]|\n|  3|  3|12.0|  1|    1.0| [3.0,3.0,12.0,1.0]|\n|  9|  8|11.0|  3|    1.0| [9.0,8.0,11.0,3.0]|\n|  1| 10|12.0|  3|    1.0|[1.0,10.0,12.0,3.0]|\n|  1|  5|13.0| 10|    1.0|[1.0,5.0,13.0,10.0]|\n|  2| 10|12.0|  6|    1.0|[2.0,10.0,12.0,6.0]|\n|  1| 10|11.0|  4|    1.0|[1.0,10.0,11.0,4.0]|\n|  5|  3|12.0|  2|    1.0| [5.0,3.0,12.0,2.0]|\n|  4|  9|11.0|  8|    1.0| [4.0,9.0,11.0,8.0]|\n|  5|  1|11.0|  1|    1.0| [5.0,1.0,11.0,1.0]|\n|  4|  9|12.0| 10|    1.0|[4.0,9.0,12.0,10.0]|\n|  5|  8|10.0|  9|    1.0| [5.0,8.0,10.0,9.0]|\n+---+---+----+---+-------+-------------------+\nonly showing top 20 rows\n\n"
     ]
    }
   ],
   "source": [
    "df.show()"
   ]
  },
  {
   "cell_type": "code",
   "execution_count": 0,
   "metadata": {
    "application/vnd.databricks.v1+cell": {
     "cellMetadata": {
      "byteLimit": 2048000,
      "rowLimit": 10000
     },
     "inputWidgets": {},
     "nuid": "e29524a5-fd25-455e-99e9-55d6f6481b65",
     "showTitle": false,
     "title": ""
    }
   },
   "outputs": [],
   "source": [
    "rfc=RandomForestClassifier(featuresCol='features',labelCol='Spoiled')"
   ]
  },
  {
   "cell_type": "code",
   "execution_count": 0,
   "metadata": {
    "application/vnd.databricks.v1+cell": {
     "cellMetadata": {
      "byteLimit": 2048000,
      "rowLimit": 10000
     },
     "inputWidgets": {},
     "nuid": "30d94c11-5de3-4988-bf99-504d8847866a",
     "showTitle": false,
     "title": ""
    }
   },
   "outputs": [],
   "source": [
    "from pyspark.ml import Pipeline"
   ]
  },
  {
   "cell_type": "code",
   "execution_count": 0,
   "metadata": {
    "application/vnd.databricks.v1+cell": {
     "cellMetadata": {
      "byteLimit": 2048000,
      "rowLimit": 10000
     },
     "inputWidgets": {},
     "nuid": "8886c937-1a80-480e-908f-87b9a6aecd6d",
     "showTitle": false,
     "title": ""
    }
   },
   "outputs": [],
   "source": [
    "pipeline=Pipeline(stages=[vec_assemb,rfc])"
   ]
  },
  {
   "cell_type": "code",
   "execution_count": 0,
   "metadata": {
    "application/vnd.databricks.v1+cell": {
     "cellMetadata": {
      "byteLimit": 2048000,
      "rowLimit": 10000
     },
     "inputWidgets": {},
     "nuid": "3058360f-d20b-445d-b1db-03b68ac4f91d",
     "showTitle": false,
     "title": ""
    }
   },
   "outputs": [
    {
     "output_type": "display_data",
     "data": {
      "text/plain": [
       "\u001B[0;31m---------------------------------------------------------------------------\u001B[0m\n",
       "\u001B[0;31mAttributeError\u001B[0m                            Traceback (most recent call last)\n",
       "\u001B[0;32m<command-3739597642105375>\u001B[0m in \u001B[0;36m<cell line: 1>\u001B[0;34m()\u001B[0m\n",
       "\u001B[0;32m----> 1\u001B[0;31m \u001B[0mtrain\u001B[0m\u001B[0;34m,\u001B[0m\u001B[0mtest\u001B[0m\u001B[0;34m=\u001B[0m\u001B[0mdf\u001B[0m\u001B[0;34m.\u001B[0m\u001B[0mrandomSplit\u001B[0m\u001B[0;34m(\u001B[0m\u001B[0;34m[\u001B[0m\u001B[0;36m0.7\u001B[0m\u001B[0;34m,\u001B[0m\u001B[0;36m0.3\u001B[0m\u001B[0;34m]\u001B[0m\u001B[0;34m)\u001B[0m\u001B[0;34m\u001B[0m\u001B[0;34m\u001B[0m\u001B[0m\n",
       "\u001B[0m\n",
       "\u001B[0;31mAttributeError\u001B[0m: 'NoneType' object has no attribute 'randomSplit'"
      ]
     },
     "metadata": {
      "application/vnd.databricks.v1+output": {
       "arguments": {},
       "data": "\u001B[0;31m---------------------------------------------------------------------------\u001B[0m\n\u001B[0;31mAttributeError\u001B[0m                            Traceback (most recent call last)\n\u001B[0;32m<command-3739597642105375>\u001B[0m in \u001B[0;36m<cell line: 1>\u001B[0;34m()\u001B[0m\n\u001B[0;32m----> 1\u001B[0;31m \u001B[0mtrain\u001B[0m\u001B[0;34m,\u001B[0m\u001B[0mtest\u001B[0m\u001B[0;34m=\u001B[0m\u001B[0mdf\u001B[0m\u001B[0;34m.\u001B[0m\u001B[0mrandomSplit\u001B[0m\u001B[0;34m(\u001B[0m\u001B[0;34m[\u001B[0m\u001B[0;36m0.7\u001B[0m\u001B[0;34m,\u001B[0m\u001B[0;36m0.3\u001B[0m\u001B[0;34m]\u001B[0m\u001B[0;34m)\u001B[0m\u001B[0;34m\u001B[0m\u001B[0;34m\u001B[0m\u001B[0m\n\u001B[0m\n\u001B[0;31mAttributeError\u001B[0m: 'NoneType' object has no attribute 'randomSplit'",
       "errorSummary": "<span class='ansi-red-fg'>AttributeError</span>: 'NoneType' object has no attribute 'randomSplit'",
       "errorTraceType": "ansi",
       "metadata": {},
       "type": "ipynbError"
      }
     },
     "output_type": "display_data"
    }
   ],
   "source": []
  },
  {
   "cell_type": "code",
   "execution_count": 0,
   "metadata": {
    "application/vnd.databricks.v1+cell": {
     "cellMetadata": {
      "byteLimit": 2048000,
      "rowLimit": 10000
     },
     "inputWidgets": {},
     "nuid": "1d3d97ad-c2d1-4575-b3d4-43df534724f6",
     "showTitle": false,
     "title": ""
    }
   },
   "outputs": [],
   "source": [
    "fitted_pipeline_rfc=pipeline.fit(train)"
   ]
  },
  {
   "cell_type": "code",
   "execution_count": 0,
   "metadata": {
    "application/vnd.databricks.v1+cell": {
     "cellMetadata": {
      "byteLimit": 2048000,
      "rowLimit": 10000
     },
     "inputWidgets": {},
     "nuid": "7a40b618-0b34-4405-9ec7-5ea4f6e43662",
     "showTitle": false,
     "title": ""
    }
   },
   "outputs": [],
   "source": [
    "fitted_model=rfc.fit(df)"
   ]
  },
  {
   "cell_type": "code",
   "execution_count": 0,
   "metadata": {
    "application/vnd.databricks.v1+cell": {
     "cellMetadata": {
      "byteLimit": 2048000,
      "rowLimit": 10000
     },
     "inputWidgets": {},
     "nuid": "6d106f3a-110a-42d5-8281-326b28cddaa3",
     "showTitle": false,
     "title": ""
    }
   },
   "outputs": [
    {
     "output_type": "stream",
     "name": "stdout",
     "output_type": "stream",
     "text": [
      "Out[43]: SparseVector(4, {0: 0.0189, 1: 0.0141, 2: 0.9384, 3: 0.0287})"
     ]
    }
   ],
   "source": [
    "fitted_model.featureImportances"
   ]
  },
  {
   "cell_type": "code",
   "execution_count": 0,
   "metadata": {
    "application/vnd.databricks.v1+cell": {
     "cellMetadata": {},
     "inputWidgets": {},
     "nuid": "a3abc342-22bc-48a4-a182-695bc30fa95b",
     "showTitle": false,
     "title": ""
    }
   },
   "outputs": [],
   "source": []
  }
 ],
 "metadata": {
  "application/vnd.databricks.v1+notebook": {
   "dashboards": [],
   "language": "python",
   "notebookMetadata": {
    "pythonIndentUnit": 4
   },
   "notebookName": "Tree_ML_RFC_project",
   "notebookOrigID": 3274686936521783,
   "widgets": {}
  }
 },
 "nbformat": 4,
 "nbformat_minor": 0
}
