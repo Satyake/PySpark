{
 "cells": [
  {
   "cell_type": "code",
   "execution_count": 0,
   "metadata": {
    "application/vnd.databricks.v1+cell": {
     "cellMetadata": {
      "byteLimit": 2048000,
      "rowLimit": 10000
     },
     "inputWidgets": {},
     "nuid": "d8e9f613-68aa-4502-8fe6-36c44df7664d",
     "showTitle": false,
     "title": ""
    }
   },
   "outputs": [],
   "source": [
    "from pyspark.sql import SparkSession\n",
    "spark=SparkSession.builder.appName('mylogreg').getOrCreate()"
   ]
  },
  {
   "cell_type": "code",
   "execution_count": 0,
   "metadata": {
    "application/vnd.databricks.v1+cell": {
     "cellMetadata": {
      "byteLimit": 2048000,
      "rowLimit": 10000
     },
     "inputWidgets": {},
     "nuid": "7536c0d4-151a-4607-bed2-2f0ac3e51808",
     "showTitle": false,
     "title": ""
    }
   },
   "outputs": [],
   "source": [
    "from pyspark.ml.classification import LogisticRegression"
   ]
  },
  {
   "cell_type": "code",
   "execution_count": 0,
   "metadata": {
    "application/vnd.databricks.v1+cell": {
     "cellMetadata": {
      "byteLimit": 2048000,
      "rowLimit": 10000
     },
     "inputWidgets": {},
     "nuid": "69dbf4c8-f3e6-4896-bb5f-46bcf17e022a",
     "showTitle": false,
     "title": ""
    }
   },
   "outputs": [],
   "source": [
    "my_data=spark.read.table('titanic')"
   ]
  },
  {
   "cell_type": "code",
   "execution_count": 0,
   "metadata": {
    "application/vnd.databricks.v1+cell": {
     "cellMetadata": {
      "byteLimit": 2048000,
      "rowLimit": 10000
     },
     "inputWidgets": {},
     "nuid": "333f751a-4e94-4e3d-8012-ca4d4882aba6",
     "showTitle": false,
     "title": ""
    }
   },
   "outputs": [
    {
     "output_type": "stream",
     "name": "stdout",
     "output_type": "stream",
     "text": [
      "Out[8]: [Row(PassengerId=1, Survived=0, Pclass=3, Name='Braund, Mr. Owen Harris', Sex='male', Age=22.0, SibSp=1, Parch=0, Ticket='A/5 21171', Fare=7.25, Cabin=None, Embarked='S')]"
     ]
    }
   ],
   "source": [
    "my_data.head(1)"
   ]
  },
  {
   "cell_type": "code",
   "execution_count": 0,
   "metadata": {
    "application/vnd.databricks.v1+cell": {
     "cellMetadata": {
      "byteLimit": 2048000,
      "rowLimit": 10000
     },
     "inputWidgets": {},
     "nuid": "d3aab993-fe87-4f50-91d7-5dd477285249",
     "showTitle": false,
     "title": ""
    }
   },
   "outputs": [],
   "source": [
    "dropped_dataframe_treatment=my_data.na.drop()\n"
   ]
  },
  {
   "cell_type": "code",
   "execution_count": 0,
   "metadata": {
    "application/vnd.databricks.v1+cell": {
     "cellMetadata": {
      "byteLimit": 2048000,
      "rowLimit": 10000
     },
     "inputWidgets": {},
     "nuid": "cd8cc466-672b-4144-af3a-801cd703d6a7",
     "showTitle": false,
     "title": ""
    }
   },
   "outputs": [
    {
     "output_type": "stream",
     "name": "stdout",
     "output_type": "stream",
     "text": [
      "Out[6]: ['PassengerId',\n 'Survived',\n 'Pclass',\n 'Name',\n 'Sex',\n 'Age',\n 'SibSp',\n 'Parch',\n 'Ticket',\n 'Fare',\n 'Cabin',\n 'Embarked']"
     ]
    }
   ],
   "source": [
    "my_data.columns"
   ]
  },
  {
   "cell_type": "code",
   "execution_count": 0,
   "metadata": {
    "application/vnd.databricks.v1+cell": {
     "cellMetadata": {
      "byteLimit": 2048000,
      "rowLimit": 10000
     },
     "inputWidgets": {},
     "nuid": "12782140-f02e-45d1-905f-52f6dae37b16",
     "showTitle": false,
     "title": ""
    }
   },
   "outputs": [],
   "source": [
    "from pyspark.ml.feature import VectorAssembler\n",
    "from pyspark.ml.feature import StringIndexer"
   ]
  },
  {
   "cell_type": "code",
   "execution_count": 0,
   "metadata": {
    "application/vnd.databricks.v1+cell": {
     "cellMetadata": {
      "byteLimit": 2048000,
      "rowLimit": 10000
     },
     "inputWidgets": {},
     "nuid": "2966f4a6-d49f-463d-9da0-124d4003ae97",
     "showTitle": false,
     "title": ""
    }
   },
   "outputs": [],
   "source": [
    "strindexer_embarked=StringIndexer(inputCol=\"Embarked\",outputCol=\"embarked_treated\")\n",
    "strindexer_cabin=StringIndexer(inputCol=\"Cabin\",outputCol=\"Treated_Cabin\")"
   ]
  },
  {
   "cell_type": "code",
   "execution_count": 0,
   "metadata": {
    "application/vnd.databricks.v1+cell": {
     "cellMetadata": {
      "byteLimit": 2048000,
      "rowLimit": 10000
     },
     "inputWidgets": {},
     "nuid": "c06d5977-d8bf-4fd7-baba-4b686e895727",
     "showTitle": false,
     "title": ""
    }
   },
   "outputs": [],
   "source": [
    "strin_emb_fit=strindexer_embarked.fit(dropped_dataframe_treatment)\n",
    "strin_cab_fit=strindexer_cabin.fit(dropped_dataframe_treatment)"
   ]
  },
  {
   "cell_type": "code",
   "execution_count": 0,
   "metadata": {
    "application/vnd.databricks.v1+cell": {
     "cellMetadata": {
      "byteLimit": 2048000,
      "rowLimit": 10000
     },
     "inputWidgets": {},
     "nuid": "b58ccb66-8c6a-45ff-8053-8e89af95a669",
     "showTitle": false,
     "title": ""
    }
   },
   "outputs": [],
   "source": [
    "transformed_frame_emb=strin_emb_fit.transform(dropped_dataframe_treatment)\n",
    "transformed_frame_cab=strin_cab_fit.transform(transformed_frame_emb)"
   ]
  },
  {
   "cell_type": "code",
   "execution_count": 0,
   "metadata": {
    "application/vnd.databricks.v1+cell": {
     "cellMetadata": {
      "byteLimit": 2048000,
      "rowLimit": 10000
     },
     "inputWidgets": {},
     "nuid": "1133bed9-ec70-4074-b04d-3214931eefe7",
     "showTitle": false,
     "title": ""
    }
   },
   "outputs": [
    {
     "output_type": "stream",
     "name": "stdout",
     "output_type": "stream",
     "text": [
      "root\n |-- PassengerId: long (nullable = true)\n |-- Survived: long (nullable = true)\n |-- Pclass: long (nullable = true)\n |-- Name: string (nullable = true)\n |-- Sex: string (nullable = true)\n |-- Age: double (nullable = true)\n |-- SibSp: long (nullable = true)\n |-- Parch: long (nullable = true)\n |-- Ticket: string (nullable = true)\n |-- Fare: double (nullable = true)\n |-- Cabin: string (nullable = true)\n |-- Embarked: string (nullable = true)\n |-- embarked_treated: double (nullable = false)\n |-- Treated_Cabin: double (nullable = false)\n\n"
     ]
    }
   ],
   "source": [
    "transformed_frame_cab.printSchema()"
   ]
  },
  {
   "cell_type": "code",
   "execution_count": 0,
   "metadata": {
    "application/vnd.databricks.v1+cell": {
     "cellMetadata": {
      "byteLimit": 2048000,
      "rowLimit": 10000
     },
     "inputWidgets": {},
     "nuid": "786768ff-8cb0-4f00-b6b7-cdc9ab8e4bc1",
     "showTitle": false,
     "title": ""
    }
   },
   "outputs": [],
   "source": [
    "assembler=VectorAssembler(inputCols=['Pclass','Age','SibSp','Parch','Treated_Cabin','embarked_treated'],outputCol='features')\n",
    "transformed_frame=assembler.transform(transformed_frame_cab)"
   ]
  },
  {
   "cell_type": "code",
   "execution_count": 0,
   "metadata": {
    "application/vnd.databricks.v1+cell": {
     "cellMetadata": {
      "byteLimit": 2048000,
      "rowLimit": 10000
     },
     "inputWidgets": {},
     "nuid": "0ede7530-78f2-4d42-bbf0-7f549dcea3de",
     "showTitle": false,
     "title": ""
    }
   },
   "outputs": [],
   "source": [
    "data=transformed_frame.select(['features','Survived'])"
   ]
  },
  {
   "cell_type": "code",
   "execution_count": 0,
   "metadata": {
    "application/vnd.databricks.v1+cell": {
     "cellMetadata": {
      "byteLimit": 2048000,
      "rowLimit": 10000
     },
     "inputWidgets": {},
     "nuid": "ac7a1752-af11-485f-abf7-d28fc6a26a74",
     "showTitle": false,
     "title": ""
    }
   },
   "outputs": [
    {
     "output_type": "stream",
     "name": "stdout",
     "output_type": "stream",
     "text": [
      "+--------------------+--------+\n|            features|Survived|\n+--------------------+--------+\n|[1.0,14.0,1.0,2.0...|       1|\n|[1.0,15.0,0.0,1.0...|       1|\n|[1.0,16.0,0.0,0.0...|       1|\n|[1.0,16.0,0.0,1.0...|       1|\n|[1.0,17.0,0.0,2.0...|       1|\n|[1.0,17.0,1.0,0.0...|       1|\n|[1.0,17.0,1.0,0.0...|       1|\n|[1.0,18.0,0.0,2.0...|       1|\n|[1.0,18.0,1.0,0.0...|       0|\n|[1.0,18.0,2.0,2.0...|       1|\n|[1.0,19.0,0.0,2.0...|       1|\n|[1.0,19.0,1.0,0.0...|       1|\n|[1.0,19.0,1.0,0.0...|       0|\n|[1.0,19.0,3.0,2.0...|       0|\n|[1.0,21.0,0.0,0.0...|       1|\n|[1.0,21.0,0.0,1.0...|       0|\n|[1.0,21.0,2.0,2.0...|       1|\n|[1.0,22.0,0.0,1.0...|       1|\n|[1.0,22.0,0.0,2.0...|       1|\n|[1.0,22.0,1.0,0.0...|       1|\n+--------------------+--------+\nonly showing top 20 rows\n\n+--------------------+--------+\n|            features|Survived|\n+--------------------+--------+\n|[1.0,0.92,1.0,2.0...|       1|\n|[1.0,2.0,1.0,2.0,...|       0|\n|[1.0,4.0,0.0,2.0,...|       1|\n|[1.0,11.0,1.0,2.0...|       1|\n|[1.0,16.0,0.0,1.0...|       1|\n|[1.0,18.0,1.0,0.0...|       1|\n|[1.0,19.0,0.0,0.0...|       1|\n|[1.0,23.0,1.0,0.0...|       1|\n|[1.0,23.0,3.0,2.0...|       1|\n|[1.0,24.0,0.0,0.0...|       1|\n|[1.0,24.0,0.0,0.0...|       0|\n|[1.0,24.0,0.0,0.0...|       1|\n|[1.0,25.0,1.0,0.0...|       1|\n|[1.0,25.0,1.0,2.0...|       0|\n|[1.0,27.0,1.0,0.0...|       1|\n|[1.0,28.0,0.0,0.0...|       1|\n|[1.0,28.0,0.0,0.0...|       1|\n|[1.0,29.0,0.0,0.0...|       1|\n|[1.0,29.0,0.0,0.0...|       0|\n|[1.0,29.0,1.0,0.0...|       0|\n+--------------------+--------+\nonly showing top 20 rows\n\n"
     ]
    }
   ],
   "source": [
    "train,test=data.randomSplit([0.7,0.3])\n",
    "train.show()\n",
    "test.show()"
   ]
  },
  {
   "cell_type": "code",
   "execution_count": 0,
   "metadata": {
    "application/vnd.databricks.v1+cell": {
     "cellMetadata": {
      "byteLimit": 2048000,
      "rowLimit": 10000
     },
     "inputWidgets": {},
     "nuid": "9812f9e3-1824-48c1-b6a3-ec0980f26000",
     "showTitle": false,
     "title": ""
    }
   },
   "outputs": [],
   "source": [
    "log_reg=LogisticRegression(labelCol='Survived')\n",
    "fitted_model=log_reg.fit(train)"
   ]
  },
  {
   "cell_type": "code",
   "execution_count": 0,
   "metadata": {
    "application/vnd.databricks.v1+cell": {
     "cellMetadata": {
      "byteLimit": 2048000,
      "rowLimit": 10000
     },
     "inputWidgets": {},
     "nuid": "a0366e47-817d-4288-97aa-0ff62ab49bc4",
     "showTitle": false,
     "title": ""
    }
   },
   "outputs": [],
   "source": [
    "summary_log=fitted_model.summary"
   ]
  },
  {
   "cell_type": "code",
   "execution_count": 0,
   "metadata": {
    "application/vnd.databricks.v1+cell": {
     "cellMetadata": {
      "byteLimit": 2048000,
      "rowLimit": 10000
     },
     "inputWidgets": {},
     "nuid": "c4f54166-83d1-44b2-8697-513621b3b896",
     "showTitle": false,
     "title": ""
    }
   },
   "outputs": [
    {
     "output_type": "stream",
     "name": "stdout",
     "output_type": "stream",
     "text": [
      "+--------------------+--------+--------------------+--------------------+----------+\n|            features|Survived|       rawPrediction|         probability|prediction|\n+--------------------+--------+--------------------+--------------------+----------+\n|[1.0,14.0,1.0,2.0...|     1.0|[-1.7091319510009...|[0.15327633960698...|       1.0|\n|[1.0,15.0,0.0,1.0...|     1.0|[-1.6080130618665...|[0.16686465658067...|       1.0|\n|[1.0,16.0,0.0,0.0...|     1.0|[-1.4354175787524...|[0.19225596593201...|       1.0|\n|[1.0,16.0,0.0,1.0...|     1.0|[-1.6275227350580...|[0.16417000435800...|       1.0|\n|[1.0,17.0,0.0,2.0...|     1.0|[-2.0458769274187...|[0.11446965823925...|       1.0|\n|[1.0,17.0,1.0,0.0...|     1.0|[-1.2519437618144...|[0.22236384571996...|       1.0|\n|[1.0,17.0,1.0,0.0...|     1.0|[-1.5640263451541...|[0.17306965166280...|       1.0|\n|[1.0,18.0,0.0,2.0...|     1.0|[-1.7257633060350...|[0.15113030194946...|       1.0|\n|[1.0,18.0,1.0,0.0...|     0.0|[-1.5208809002846...|[0.17933183898853...|       1.0|\n|[1.0,18.0,2.0,2.0...|     1.0|[-1.7496154496476...|[0.14809570763454...|       1.0|\n|[1.0,19.0,0.0,2.0...|     1.0|[-1.6674704699860...|[0.15876172232483...|       1.0|\n|[1.0,19.0,1.0,0.0...|     1.0|[-1.4715387953872...|[0.18670883731440...|       1.0|\n|[1.0,19.0,1.0,0.0...|     0.0|[-1.2317505790409...|[0.22587518032936...|       1.0|\n|[1.0,19.0,3.0,2.0...|     0.0|[-1.2933045628805...|[0.21529400448828...|       1.0|\n|[1.0,21.0,0.0,0.0...|     1.0|[-1.2527392078880...|[0.22222632902096...|       1.0|\n|[1.0,21.0,0.0,1.0...|     0.0|[-1.3594681593633...|[0.20432675391896...|       1.0|\n|[1.0,21.0,2.0,2.0...|     1.0|[-1.6201791150393...|[0.16518016951900...|       1.0|\n|[1.0,22.0,0.0,1.0...|     1.0|[-1.3796663503357...|[0.20106259069422...|       1.0|\n|[1.0,22.0,0.0,2.0...|     1.0|[-1.8081171340831...|[0.14086584111938...|       1.0|\n|[1.0,22.0,1.0,0.0...|     1.0|[-1.0437902330570...|[0.26041932823483...|       1.0|\n+--------------------+--------+--------------------+--------------------+----------+\nonly showing top 20 rows\n\n"
     ]
    }
   ],
   "source": [
    "summary_log.predictions.show()"
   ]
  },
  {
   "cell_type": "code",
   "execution_count": 0,
   "metadata": {
    "application/vnd.databricks.v1+cell": {
     "cellMetadata": {
      "byteLimit": 2048000,
      "rowLimit": 10000
     },
     "inputWidgets": {},
     "nuid": "820a8a19-73b6-45f0-afa4-d5a901f53741",
     "showTitle": false,
     "title": ""
    }
   },
   "outputs": [],
   "source": [
    "prediction_test=fitted_model.evaluate(test)"
   ]
  },
  {
   "cell_type": "code",
   "execution_count": 0,
   "metadata": {
    "application/vnd.databricks.v1+cell": {
     "cellMetadata": {
      "byteLimit": 2048000,
      "rowLimit": 10000
     },
     "inputWidgets": {},
     "nuid": "afe0d969-8e33-47cb-8349-b6ee71ab8f0a",
     "showTitle": false,
     "title": ""
    }
   },
   "outputs": [
    {
     "output_type": "stream",
     "name": "stdout",
     "output_type": "stream",
     "text": [
      "0.7384615384615385\n0.6825980392156863\n"
     ]
    }
   ],
   "source": [
    "print(prediction_test.accuracy)\n",
    "print(prediction_test.areaUnderROC)"
   ]
  },
  {
   "cell_type": "code",
   "execution_count": 0,
   "metadata": {
    "application/vnd.databricks.v1+cell": {
     "cellMetadata": {
      "byteLimit": 2048000,
      "rowLimit": 10000
     },
     "inputWidgets": {},
     "nuid": "764680c3-ae70-4c74-8cdc-b62684bfd278",
     "showTitle": false,
     "title": ""
    }
   },
   "outputs": [],
   "source": [
    "from pyspark.ml.evaluation import BinaryClassificationEvaluator,MulticlassClassificationEvaluator"
   ]
  },
  {
   "cell_type": "code",
   "execution_count": 0,
   "metadata": {
    "application/vnd.databricks.v1+cell": {
     "cellMetadata": {
      "byteLimit": 2048000,
      "rowLimit": 10000
     },
     "inputWidgets": {},
     "nuid": "950b2745-ca69-4eb2-ac7d-ffef23ff052a",
     "showTitle": false,
     "title": ""
    }
   },
   "outputs": [],
   "source": [
    "my_eval=BinaryClassificationEvaluator()"
   ]
  },
  {
   "cell_type": "code",
   "execution_count": 0,
   "metadata": {
    "application/vnd.databricks.v1+cell": {
     "cellMetadata": {},
     "inputWidgets": {},
     "nuid": "cedbffa5-ba58-46ad-9789-ae77335bdbc2",
     "showTitle": false,
     "title": ""
    }
   },
   "outputs": [],
   "source": []
  }
 ],
 "metadata": {
  "application/vnd.databricks.v1+notebook": {
   "dashboards": [],
   "language": "python",
   "notebookMetadata": {
    "pythonIndentUnit": 4
   },
   "notebookName": "Logistic R",
   "notebookOrigID": 2383055826210229,
   "widgets": {}
  }
 },
 "nbformat": 4,
 "nbformat_minor": 0
}
