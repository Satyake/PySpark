{
 "cells": [
  {
   "cell_type": "code",
   "execution_count": 0,
   "metadata": {
    "application/vnd.databricks.v1+cell": {
     "cellMetadata": {
      "byteLimit": 2048000,
      "rowLimit": 10000
     },
     "inputWidgets": {},
     "nuid": "0b25de3a-7ed5-4e7c-a69b-582041a5c856",
     "showTitle": false,
     "title": ""
    }
   },
   "outputs": [],
   "source": [
    "from pyspark.sql import SparkSession\n",
    "spark=SparkSession.builder.appName('Proj LR').getOrCreate()\n"
   ]
  },
  {
   "cell_type": "code",
   "execution_count": 0,
   "metadata": {
    "application/vnd.databricks.v1+cell": {
     "cellMetadata": {
      "byteLimit": 2048000,
      "rowLimit": 10000
     },
     "inputWidgets": {},
     "nuid": "46675800-24c9-431c-bd4e-5b8e08b8e1c0",
     "showTitle": false,
     "title": ""
    }
   },
   "outputs": [],
   "source": [
    "data=spark.read.table('cruise_ship_info')"
   ]
  },
  {
   "cell_type": "code",
   "execution_count": 0,
   "metadata": {
    "application/vnd.databricks.v1+cell": {
     "cellMetadata": {
      "byteLimit": 2048000,
      "rowLimit": 10000
     },
     "inputWidgets": {},
     "nuid": "5f40f248-13c6-4b1a-8585-aa2c3283ccb6",
     "showTitle": false,
     "title": ""
    }
   },
   "outputs": [
    {
     "output_type": "stream",
     "name": "stdout",
     "output_type": "stream",
     "text": [
      "Out[17]: ['Ship_name',\n 'Cruise_line',\n 'Age',\n 'Tonnage',\n 'passengers',\n 'length',\n 'cabins',\n 'passenger_density',\n 'crew']"
     ]
    }
   ],
   "source": [
    "data.columns"
   ]
  },
  {
   "cell_type": "code",
   "execution_count": 0,
   "metadata": {
    "application/vnd.databricks.v1+cell": {
     "cellMetadata": {
      "byteLimit": 2048000,
      "rowLimit": 10000
     },
     "inputWidgets": {},
     "nuid": "1345c8f8-b0cc-4ff5-8c29-4d452fd4fde9",
     "showTitle": false,
     "title": ""
    }
   },
   "outputs": [],
   "source": [
    "from pyspark.ml.feature import VectorAssembler,StringIndexer\n",
    "from pyspark.ml.regression import LinearRegression"
   ]
  },
  {
   "cell_type": "code",
   "execution_count": 0,
   "metadata": {
    "application/vnd.databricks.v1+cell": {
     "cellMetadata": {
      "byteLimit": 2048000,
      "rowLimit": 10000
     },
     "inputWidgets": {},
     "nuid": "ea8751fa-baf1-4600-a81d-4a0d9e85a732",
     "showTitle": false,
     "title": ""
    }
   },
   "outputs": [],
   "source": [
    "assembler=VectorAssembler(inputCols=[\n",
    " 'treated',\n",
    " 'Age',\n",
    " 'Tonnage',\n",
    " 'passengers',\n",
    " 'length',\n",
    " 'cabins',\n",
    " 'passenger_density'],outputCol='features')"
   ]
  },
  {
   "cell_type": "code",
   "execution_count": 0,
   "metadata": {
    "application/vnd.databricks.v1+cell": {
     "cellMetadata": {
      "byteLimit": 2048000,
      "rowLimit": 10000
     },
     "inputWidgets": {},
     "nuid": "0e0c89f2-ee0e-4425-8637-4f9fb04e7aac",
     "showTitle": false,
     "title": ""
    }
   },
   "outputs": [],
   "source": [
    "stringindexer=StringIndexer(inputCol=\"Cruise_line\",outputCol=\"treated\")\n",
    "model_string_indexer=stringindexer.fit(data)"
   ]
  },
  {
   "cell_type": "code",
   "execution_count": 0,
   "metadata": {
    "application/vnd.databricks.v1+cell": {
     "cellMetadata": {
      "byteLimit": 2048000,
      "rowLimit": 10000
     },
     "inputWidgets": {},
     "nuid": "eef8220a-f9a4-4e92-81f7-abf3c4ac08b6",
     "showTitle": false,
     "title": ""
    }
   },
   "outputs": [],
   "source": [
    "treated=model_string_indexer.transform(data)"
   ]
  },
  {
   "cell_type": "code",
   "execution_count": 0,
   "metadata": {
    "application/vnd.databricks.v1+cell": {
     "cellMetadata": {
      "byteLimit": 2048000,
      "rowLimit": 10000
     },
     "inputWidgets": {},
     "nuid": "4311eb86-45b7-4bea-9fee-68122c81cacd",
     "showTitle": false,
     "title": ""
    }
   },
   "outputs": [
    {
     "output_type": "stream",
     "name": "stdout",
     "output_type": "stream",
     "text": [
      "root\n |-- Ship_name: string (nullable = true)\n |-- Cruise_line: string (nullable = true)\n |-- Age: long (nullable = true)\n |-- Tonnage: double (nullable = true)\n |-- passengers: double (nullable = true)\n |-- length: double (nullable = true)\n |-- cabins: double (nullable = true)\n |-- passenger_density: double (nullable = true)\n |-- crew: double (nullable = true)\n |-- treated: double (nullable = false)\n\n"
     ]
    }
   ],
   "source": [
    "treated.printSchema()"
   ]
  },
  {
   "cell_type": "code",
   "execution_count": 0,
   "metadata": {
    "application/vnd.databricks.v1+cell": {
     "cellMetadata": {
      "byteLimit": 2048000,
      "rowLimit": 10000
     },
     "inputWidgets": {},
     "nuid": "34dbb18b-324f-43c5-859b-1c7ecd705220",
     "showTitle": false,
     "title": ""
    }
   },
   "outputs": [],
   "source": [
    "transformed_assembler=assembler.transform(treated)"
   ]
  },
  {
   "cell_type": "code",
   "execution_count": 0,
   "metadata": {
    "application/vnd.databricks.v1+cell": {
     "cellMetadata": {
      "byteLimit": 2048000,
      "rowLimit": 10000
     },
     "inputWidgets": {},
     "nuid": "c6352846-739b-46e4-b4ea-7c82fc170e7a",
     "showTitle": false,
     "title": ""
    }
   },
   "outputs": [
    {
     "output_type": "stream",
     "name": "stdout",
     "output_type": "stream",
     "text": [
      "+-----------+-----------+---+------------------+----------+------+------+-----------------+----+-------+--------------------+\n|  Ship_name|Cruise_line|Age|           Tonnage|passengers|length|cabins|passenger_density|crew|treated|            features|\n+-----------+-----------+---+------------------+----------+------+------+-----------------+----+-------+--------------------+\n|    Journey|    Azamara|  6|30.276999999999997|      6.94|  5.94|  3.55|            42.64|3.55|   16.0|[16.0,6.0,30.2769...|\n|      Quest|    Azamara|  6|30.276999999999997|      6.94|  5.94|  3.55|            42.64|3.55|   16.0|[16.0,6.0,30.2769...|\n|Celebration|   Carnival| 26|            47.262|     14.86|  7.22|  7.43|             31.8| 6.7|    1.0|[1.0,26.0,47.262,...|\n|   Conquest|   Carnival| 11|             110.0|     29.74|  9.53| 14.88|            36.99|19.1|    1.0|[1.0,11.0,110.0,2...|\n|    Destiny|   Carnival| 17|           101.353|     26.42|  8.92| 13.21|            38.36|10.0|    1.0|[1.0,17.0,101.353...|\n|    Ecstasy|   Carnival| 22|            70.367|     20.52|  8.55|  10.2|            34.29| 9.2|    1.0|[1.0,22.0,70.367,...|\n|    Elation|   Carnival| 15|            70.367|     20.52|  8.55|  10.2|            34.29| 9.2|    1.0|[1.0,15.0,70.367,...|\n|    Fantasy|   Carnival| 23|            70.367|     20.56|  8.55| 10.22|            34.23| 9.2|    1.0|[1.0,23.0,70.367,...|\n|Fascination|   Carnival| 19|            70.367|     20.52|  8.55|  10.2|            34.29| 9.2|    1.0|[1.0,19.0,70.367,...|\n|    Freedom|   Carnival|  6|110.23899999999999|      37.0|  9.51| 14.87|            29.79|11.5|    1.0|[1.0,6.0,110.2389...|\n|      Glory|   Carnival| 10|             110.0|     29.74|  9.51| 14.87|            36.99|11.6|    1.0|[1.0,10.0,110.0,2...|\n|    Holiday|   Carnival| 28|            46.052|     14.52|  7.27|  7.26|            31.72| 6.6|    1.0|[1.0,28.0,46.052,...|\n|Imagination|   Carnival| 18|            70.367|     20.52|  8.55|  10.2|            34.29| 9.2|    1.0|[1.0,18.0,70.367,...|\n|Inspiration|   Carnival| 17|            70.367|     20.52|  8.55|  10.2|            34.29| 9.2|    1.0|[1.0,17.0,70.367,...|\n|     Legend|   Carnival| 11|              86.0|     21.24|  9.63| 10.62|            40.49| 9.3|    1.0|[1.0,11.0,86.0,21...|\n|   Liberty*|   Carnival|  8|             110.0|     29.74|  9.51| 14.87|            36.99|11.6|    1.0|[1.0,8.0,110.0,29...|\n|    Miracle|   Carnival|  9|              88.5|     21.24|  9.63| 10.62|            41.67|10.3|    1.0|[1.0,9.0,88.5,21....|\n|   Paradise|   Carnival| 15|            70.367|     20.52|  8.55|  10.2|            34.29| 9.2|    1.0|[1.0,15.0,70.367,...|\n|      Pride|   Carnival| 12|              88.5|     21.24|  9.63| 11.62|            41.67| 9.3|    1.0|[1.0,12.0,88.5,21...|\n|  Sensation|   Carnival| 20|            70.367|     20.52|  8.55|  10.2|            34.29| 9.2|    1.0|[1.0,20.0,70.367,...|\n+-----------+-----------+---+------------------+----------+------+------+-----------------+----+-------+--------------------+\nonly showing top 20 rows\n\n"
     ]
    }
   ],
   "source": [
    "transformed_assembler.show()"
   ]
  },
  {
   "cell_type": "code",
   "execution_count": 0,
   "metadata": {
    "application/vnd.databricks.v1+cell": {
     "cellMetadata": {
      "byteLimit": 2048000,
      "rowLimit": 10000
     },
     "inputWidgets": {},
     "nuid": "3702f061-1644-4c24-8e71-18729bcdc41e",
     "showTitle": false,
     "title": ""
    }
   },
   "outputs": [],
   "source": [
    "data_features=transformed_assembler.select(['features','crew'])"
   ]
  },
  {
   "cell_type": "code",
   "execution_count": 0,
   "metadata": {
    "application/vnd.databricks.v1+cell": {
     "cellMetadata": {
      "byteLimit": 2048000,
      "rowLimit": 10000
     },
     "inputWidgets": {},
     "nuid": "fbabd37a-5333-432d-a877-badacd49d14c",
     "showTitle": false,
     "title": ""
    }
   },
   "outputs": [
    {
     "output_type": "stream",
     "name": "stdout",
     "output_type": "stream",
     "text": [
      "+--------------------+----+\n|            features|crew|\n+--------------------+----+\n|[16.0,6.0,30.2769...|3.55|\n|[16.0,6.0,30.2769...|3.55|\n|[1.0,26.0,47.262,...| 6.7|\n|[1.0,11.0,110.0,2...|19.1|\n|[1.0,17.0,101.353...|10.0|\n|[1.0,22.0,70.367,...| 9.2|\n|[1.0,15.0,70.367,...| 9.2|\n|[1.0,23.0,70.367,...| 9.2|\n|[1.0,19.0,70.367,...| 9.2|\n|[1.0,6.0,110.2389...|11.5|\n|[1.0,10.0,110.0,2...|11.6|\n|[1.0,28.0,46.052,...| 6.6|\n|[1.0,18.0,70.367,...| 9.2|\n|[1.0,17.0,70.367,...| 9.2|\n|[1.0,11.0,86.0,21...| 9.3|\n|[1.0,8.0,110.0,29...|11.6|\n|[1.0,9.0,88.5,21....|10.3|\n|[1.0,15.0,70.367,...| 9.2|\n|[1.0,12.0,88.5,21...| 9.3|\n|[1.0,20.0,70.367,...| 9.2|\n+--------------------+----+\nonly showing top 20 rows\n\n"
     ]
    }
   ],
   "source": [
    "data_features.show()"
   ]
  },
  {
   "cell_type": "code",
   "execution_count": 0,
   "metadata": {
    "application/vnd.databricks.v1+cell": {
     "cellMetadata": {
      "byteLimit": 2048000,
      "rowLimit": 10000
     },
     "inputWidgets": {},
     "nuid": "56e9f98a-3118-4720-8a8a-f9786a26c045",
     "showTitle": false,
     "title": ""
    }
   },
   "outputs": [],
   "source": [
    "lr_model=LinearRegression(labelCol=\"crew\")"
   ]
  },
  {
   "cell_type": "code",
   "execution_count": 0,
   "metadata": {
    "application/vnd.databricks.v1+cell": {
     "cellMetadata": {
      "byteLimit": 2048000,
      "rowLimit": 10000
     },
     "inputWidgets": {},
     "nuid": "6ec780dc-ca41-4d56-a06c-82a0cf508cec",
     "showTitle": false,
     "title": ""
    }
   },
   "outputs": [],
   "source": [
    "train,test=data_features.randomSplit([0.6,0.4])"
   ]
  },
  {
   "cell_type": "code",
   "execution_count": 0,
   "metadata": {
    "application/vnd.databricks.v1+cell": {
     "cellMetadata": {
      "byteLimit": 2048000,
      "rowLimit": 10000
     },
     "inputWidgets": {},
     "nuid": "fe79b9e9-6175-4bde-b120-3a05ae5e7e14",
     "showTitle": false,
     "title": ""
    }
   },
   "outputs": [],
   "source": [
    "fitted_model=lr_model.fit(train)"
   ]
  },
  {
   "cell_type": "code",
   "execution_count": 0,
   "metadata": {
    "application/vnd.databricks.v1+cell": {
     "cellMetadata": {
      "byteLimit": 2048000,
      "rowLimit": 10000
     },
     "inputWidgets": {},
     "nuid": "c6f39f75-69d5-4225-b29b-44e7be1a249e",
     "showTitle": false,
     "title": ""
    }
   },
   "outputs": [],
   "source": [
    "metrics=fitted_model.evaluate(test)"
   ]
  },
  {
   "cell_type": "code",
   "execution_count": 0,
   "metadata": {
    "application/vnd.databricks.v1+cell": {
     "cellMetadata": {
      "byteLimit": 2048000,
      "rowLimit": 10000
     },
     "inputWidgets": {},
     "nuid": "d8e262d8-cbc2-44cc-88d5-52fec8858cc5",
     "showTitle": false,
     "title": ""
    }
   },
   "outputs": [
    {
     "output_type": "stream",
     "name": "stdout",
     "output_type": "stream",
     "text": [
      "Out[43]: 0.8989159375834559"
     ]
    }
   ],
   "source": [
    "metrics.r2"
   ]
  },
  {
   "cell_type": "code",
   "execution_count": 0,
   "metadata": {
    "application/vnd.databricks.v1+cell": {
     "cellMetadata": {
      "byteLimit": 2048000,
      "rowLimit": 10000
     },
     "inputWidgets": {},
     "nuid": "f8db8b3a-47d0-4d5d-94ae-66d9638c9cc5",
     "showTitle": false,
     "title": ""
    }
   },
   "outputs": [
    {
     "output_type": "stream",
     "name": "stdout",
     "output_type": "stream",
     "text": [
      "+--------------------+-----+------------------+\n|            features| crew|        prediction|\n+--------------------+-----+------------------+\n|[0.0,5.0,160.0,36...| 13.6|14.727758201915593|\n|[0.0,6.0,158.0,43...| 13.6|13.617222107512712|\n|[0.0,7.0,158.0,43...| 13.6| 13.54220936931763|\n|[0.0,9.0,90.09,25...| 8.69| 9.161733052945902|\n|[0.0,12.0,90.09,2...| 8.68| 8.707024597524306|\n|[0.0,13.0,138.0,3...|11.76|12.575567006035287|\n|[0.0,15.0,78.491,...|  6.6|  8.14199355033236|\n|[0.0,16.0,78.491,...| 7.65| 8.126452283679711|\n|[0.0,18.0,70.0,18...|  7.2| 7.827845607805646|\n|[0.0,22.0,73.941,...| 8.22|  9.08031927634848|\n|[0.0,25.0,73.192,...| 8.08| 8.572507873587588|\n|[1.0,8.0,110.0,29...| 11.6| 12.10890552571268|\n|[1.0,9.0,110.0,29...| 11.6| 12.09793898764022|\n|[1.0,11.0,110.0,2...| 19.1|12.080705834175648|\n|[1.0,12.0,88.5,21...|10.29| 9.346718944996752|\n|[1.0,12.0,88.5,21...|  9.3|10.329831978613726|\n|[1.0,13.0,101.509...| 11.5|11.100552030428188|\n|[1.0,17.0,101.353...| 10.0|10.650368183945567|\n|[2.0,6.0,113.0,37...| 12.0|11.750964589311641|\n|[2.0,7.0,116.0,31...| 12.0| 12.65429950571266|\n+--------------------+-----+------------------+\nonly showing top 20 rows\n\n"
     ]
    }
   ],
   "source": [
    "predictions=fitted_model.transform(test)\n",
    "predictions.show()"
   ]
  },
  {
   "cell_type": "code",
   "execution_count": 0,
   "metadata": {
    "application/vnd.databricks.v1+cell": {
     "cellMetadata": {},
     "inputWidgets": {},
     "nuid": "026786af-4202-444a-ae42-5d794e899bad",
     "showTitle": false,
     "title": ""
    }
   },
   "outputs": [],
   "source": []
  }
 ],
 "metadata": {
  "application/vnd.databricks.v1+notebook": {
   "dashboards": [],
   "language": "python",
   "notebookMetadata": {
    "pythonIndentUnit": 4
   },
   "notebookName": "Linear Reg Consulting",
   "notebookOrigID": 2124179632234990,
   "widgets": {}
  }
 },
 "nbformat": 4,
 "nbformat_minor": 0
}
